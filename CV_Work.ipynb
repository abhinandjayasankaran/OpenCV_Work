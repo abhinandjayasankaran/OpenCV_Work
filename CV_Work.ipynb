import cv2
import numpy as np
import matplotlib.pyplot as plt
print(cv2.__version__)

pic=255*np.ones((200,200,3),dtype='uint8')
print(pic)

plt.imshow(pic)
type(pic)
pic.shape
