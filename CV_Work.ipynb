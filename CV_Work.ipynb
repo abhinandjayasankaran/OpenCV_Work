{
  "cells": [
    {
      "cell_type": "code",
      "source": [
        "import cv2\n",
        "import numpy as np\n",
        "import matplotlib.pyplot as plt\n",
        "print(cv2.__version__)\n",
        "\n",
        "pic=0*np.ones((20,20,3),dtype='uint8')\n",
        "print(pic)\n",
        "\n",
        "plt.imshow(pic)\n",
        "type(pic)\n",
        "pic.shape\n",
        "\n",
        "\n",
        "\n",
        "help\n",
        "cv2.rectangle(pic,(3,5),(7,15),255)\n",
        "plt.imshow(pic)\n",
        "crop = pic[2:17,1:10]\n",
        "plt.imshow(crop[::3,::1])\n",
        "\n",
        "trans_pic = 100 * np.ones( (300,250,3), dtype = 'uint8')\n",
        "\n",
        "\n",
        "\n",
        "trans_pic=np.float32(trans_pic)\n",
        "trans_pic.dtype\n",
        "trans_pic.max()\n",
        "\n",
        "trans_pic= trans_pic/255\n",
        "trans_pic=np.uint8(trans_pic)\n",
        "trans_pic.dtype\n",
        "\n",
        "trans_pic.max()\n",
        "\n",
        "trans_pic=np.clip(trans_pic,0,255)\n",
        "trans_pic=trans_pic/255\n",
        "trans_pic.dtype\n",
        "trans_pic.max()\n",
        "plt.imshow(trans_pic)\n",
        "trans_pic.shape\n",
        "\n",
        "plt.imshow(trans_pic)"
      ],
      "outputs": [],
      "execution_count": null,
      "metadata": {
        "collapsed": true,
        "jupyter": {
          "source_hidden": false,
          "outputs_hidden": false
        },
        "nteract": {
          "transient": {
            "deleting": false
          }
        }
      }
    }
  ],
  "metadata": {},
  "nbformat": 4,
  "nbformat_minor": 0
}