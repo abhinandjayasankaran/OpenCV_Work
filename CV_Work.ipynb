import cv2
import numpy as np
import matplotlib.pyplot as plt
print(cv2.__version__)

pic=0*np.ones((20,20,3),dtype='uint8')
print(pic)

plt.imshow(pic)
type(pic)
pic.shape



help
cv2.rectangle(pic,(3,5),(7,15),255)
plt.imshow(pic)
crop = pic[2:17,1:10]
plt.imshow(crop[::3,::1])

trans_pic = 100 * np.ones( (300,250,3), dtype = 'uint8')



trans_pic=np.float32(trans_pic)
trans_pic.dtype
trans_pic.max()

trans_pic= trans_pic/255
trans_pic=np.uint8(trans_pic)
trans_pic.dtype

trans_pic.max()

trans_pic=np.clip(trans_pic,0,255)
trans_pic=trans_pic/255
trans_pic.dtype
trans_pic.max()
plt.imshow(trans_pic)
trans_pic.shape

plt.imshow(trans_pic)
