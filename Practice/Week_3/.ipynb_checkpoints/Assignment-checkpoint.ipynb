{
 "cells": [
  {
   "cell_type": "markdown",
   "metadata": {},
   "source": [
    "# Resizing Image Using Trackbars in OpenCV"
   ]
  },
  {
   "cell_type": "code",
   "execution_count": 14,
   "metadata": {},
   "outputs": [],
   "source": [
    "import cv2\n",
    "import matplotlib\n",
    "import matplotlib.pyplot as plt\n",
    "import numpy as np\n",
    "import os"
   ]
  },
  {
   "cell_type": "code",
   "execution_count": 15,
   "metadata": {},
   "outputs": [],
   "source": [
    "DATA_PATH = os.getcwd()"
   ]
  },
  {
   "cell_type": "code",
   "execution_count": 16,
   "metadata": {},
   "outputs": [],
   "source": [
    "imgPath = DATA_PATH + \"/data/sample.jpg\""
   ]
  },
  {
   "cell_type": "code",
   "execution_count": 17,
   "metadata": {},
   "outputs": [],
   "source": [
    "img = cv2.imread(imgPath)  #Reading Image\n",
    "imgCopy = img.copy()       #Creating a copy image\n"
   ]
  },
  {
   "cell_type": "code",
   "execution_count": 18,
   "metadata": {},
   "outputs": [],
   "source": [
    "global scaleFactor, scaleType, maxScaleValue, maxScaleType, scaledImg\n",
    "scaleType = 0\n",
    "scaleFactor = 1\n",
    "maxScaleValue = 100\n",
    "maxScaleType = 1"
   ]
  },
  {
   "cell_type": "code",
   "execution_count": 19,
   "metadata": {},
   "outputs": [],
   "source": [
    "scaledImg = img.copy()"
   ]
  },
  {
   "cell_type": "code",
   "execution_count": 20,
   "metadata": {},
   "outputs": [],
   "source": [
    "def resizeImg(*args):\n",
    "    \n",
    "    scaleFactor=1\n",
    "    \n",
    "    if scaleType == 0:\n",
    "    \n",
    "        scaleFactor = 1 + (args[0]/100)\n",
    "        scaledImg=cv2.resize(img, None, fx=scaleFactor, fy=scaleFactor, interpolation = cv2.INTER_LINEAR)\n",
    "        cv2.imshow(\"Resize Image\", scaledImg)\n",
    "    \n",
    "    elif scaleType == 1:\n",
    "        \n",
    "        scaleFactor = 1-(args[0]/100)\n",
    "        \n",
    "        if args[0] == 100:\n",
    "            scaleFactor = 1 - (99/100)\n",
    "        \n",
    "        scaledImg=cv2.resize(img, None, fx=scaleFactor, fy=scaleFactor, interpolation = cv2.INTER_LINEAR)\n",
    "        cv2.imshow(\"Resize Image\", scaledImg)\n",
    "    \n",
    "    \n",
    "def resizeScaleType(*args):\n",
    "    \n",
    "    global scaleType\n",
    "    \n",
    "    scaleFactor = 1\n",
    "    \n",
    "    scaleType = args[0]\n",
    "    \n",
    "    cv2.setTrackbarPos(\"Resize Scale %\", \"Resize Trackbar\", 0)"
   ]
  },
  {
   "cell_type": "code",
   "execution_count": 21,
   "metadata": {},
   "outputs": [],
   "source": [
    "cv2.namedWindow(\"Resize Image\")\n",
    "\n",
    "cv2.namedWindow(\"Resize Trackbar\",None)\n",
    "\n",
    "\n",
    "cv2.createTrackbar(\"Resize Scale %\", \"Resize Trackbar\", scaleFactor, maxScaleValue, resizeImg)\n",
    "cv2.createTrackbar(\"Scale Up/Down(0/1)\", \"Resize Trackbar\", scaleType, maxScaleType, resizeScaleType)\n",
    "\n",
    "cv2.imshow(\"Resize Image\", scaledImg)\n",
    "\n",
    "c = cv2.waitKey(0)\n",
    "\n",
    "cv2.destroyAllWindows()\n",
    "exit()"
   ]
  },
  {
   "cell_type": "code",
   "execution_count": null,
   "metadata": {},
   "outputs": [],
   "source": []
  },
  {
   "cell_type": "code",
   "execution_count": null,
   "metadata": {},
   "outputs": [],
   "source": []
  }
 ],
 "metadata": {
  "kernelspec": {
   "display_name": "Python 3",
   "language": "python",
   "name": "python3"
  },
  "language_info": {
   "codemirror_mode": {
    "name": "ipython",
    "version": 3
   },
   "file_extension": ".py",
   "mimetype": "text/x-python",
   "name": "python",
   "nbconvert_exporter": "python",
   "pygments_lexer": "ipython3",
   "version": "3.7.4"
  }
 },
 "nbformat": 4,
 "nbformat_minor": 4
}
