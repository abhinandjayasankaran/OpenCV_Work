{
 "cells": [
  {
   "cell_type": "code",
   "execution_count": 1,
   "metadata": {},
   "outputs": [],
   "source": [
    "import cv2\n",
    "import math\n",
    "import matplotlib \n",
    "import matplotlib.pyplot as plt\n",
    "import numpy as np\n",
    "import os"
   ]
  },
  {
   "cell_type": "code",
   "execution_count": null,
   "metadata": {},
   "outputs": [],
   "source": []
  },
  {
   "cell_type": "code",
   "execution_count": 2,
   "metadata": {},
   "outputs": [],
   "source": [
    "DATA_PATH = os.getcwd()"
   ]
  },
  {
   "cell_type": "code",
   "execution_count": 3,
   "metadata": {},
   "outputs": [],
   "source": [
    "imgPath = DATA_PATH + \"/data/sample.jpg\""
   ]
  },
  {
   "cell_type": "code",
   "execution_count": 4,
   "metadata": {},
   "outputs": [],
   "source": [
    "global img\n",
    "img = cv2.imread(imgPath)\n",
    "global imgCopy\n",
    "imgCopy = img.copy()"
   ]
  },
  {
   "cell_type": "code",
   "execution_count": 5,
   "metadata": {},
   "outputs": [],
   "source": [
    "def drawBox(action,x,y,flags,userdata):\n",
    "    \n",
    "    global topLeftColumn, topLeftRow, bottomRightRow, bottomRightColumn\n",
    "    \n",
    "    \n",
    "    if action == cv2.EVENT_LBUTTONDOWN:\n",
    "        topLeftColumn,topLeftRow = (x,y)\n",
    "        cv2.circle(img,(topLeftColumn,topLeftRow),1,(0,0,255),2,cv2.LINE_AA)\n",
    "    elif action == cv2.EVENT_LBUTTONUP:\n",
    "        bottomRightColumn, bottomRightRow = (x,y)\n",
    "        cv2.rectangle(img,(topLeftColumn,topLeftRow),(bottomRightColumn,bottomRightRow),(0,0,255),2, cv2.LINE_AA)\n",
    "        cv2.putText(img,\"Enter y to crop and save or c=clear & retry...\", (10,450), cv2.FONT_HERSHEY_SIMPLEX, 0.7,(255,255,255), 2 )\n",
    "        \n",
    "        "
   ]
  },
  {
   "cell_type": "code",
   "execution_count": null,
   "metadata": {},
   "outputs": [],
   "source": []
  },
  {
   "cell_type": "code",
   "execution_count": 6,
   "metadata": {},
   "outputs": [],
   "source": [
    "cv2.namedWindow(\"Image_Window\")\n",
    "cv2.setMouseCallback(\"Image_Window\",drawBox)\n",
    "\n",
    "\n",
    "\n",
    "k=0\n",
    "\n",
    "while k!=27:\n",
    "    \n",
    "    \n",
    "    \n",
    "    cv2.imshow(\"Image_Window\",img)\n",
    "    cv2.putText(img,\"Pick point and drag(ESC=exit,c=clear)\", (10,30), cv2.FONT_HERSHEY_SIMPLEX, 0.7,(255,255,255), 2 )\n",
    "    k = cv2.waitKey(1)\n",
    "    \n",
    "    if k==ord('c') or k==ord('C'):\n",
    "        img = imgCopy.copy()\n",
    "        \n",
    "    elif k==ord('y') or k==ord('Y'):\n",
    "        cropImg = img[topLeftRow:bottomRightRow,topLeftColumn:bottomRightColumn]\n",
    "        cv2.imwrite(\"croppedImage.jpg\",cropImg)\n",
    "        break\n",
    "        \n",
    "\n",
    "cv2.destroyAllWindows()\n",
    "exit()\n",
    "        \n"
   ]
  },
  {
   "cell_type": "code",
   "execution_count": null,
   "metadata": {},
   "outputs": [],
   "source": []
  },
  {
   "cell_type": "code",
   "execution_count": null,
   "metadata": {},
   "outputs": [],
   "source": []
  }
 ],
 "metadata": {
  "kernelspec": {
   "display_name": "Python 3",
   "language": "python",
   "name": "python3"
  },
  "language_info": {
   "codemirror_mode": {
    "name": "ipython",
    "version": 3
   },
   "file_extension": ".py",
   "mimetype": "text/x-python",
   "name": "python",
   "nbconvert_exporter": "python",
   "pygments_lexer": "ipython3",
   "version": "3.7.4"
  }
 },
 "nbformat": 4,
 "nbformat_minor": 4
}
