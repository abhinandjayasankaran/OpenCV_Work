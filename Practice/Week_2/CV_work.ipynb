{
 "cells": [
  {
   "cell_type": "markdown",
   "metadata": {},
   "source": [
    "# Video I/O using OpenCV\n"
   ]
  },
  {
   "cell_type": "code",
   "execution_count": 3,
   "metadata": {},
   "outputs": [],
   "source": [
    "import cv2\n",
    "import numpy as np\n",
    "import matplotlib\n",
    "import matplotlib.pyplot as plt\n",
    "import math"
   ]
  },
  {
   "cell_type": "markdown",
   "metadata": {},
   "source": []
  },
  {
   "cell_type": "code",
   "execution_count": 2,
   "metadata": {},
   "outputs": [],
   "source": [
    "cap = cv2.VideoCapture(0)"
   ]
  },
  {
   "cell_type": "code",
   "execution_count": 3,
   "metadata": {},
   "outputs": [
    {
     "name": "stdout",
     "output_type": "stream",
     "text": [
      "Width:  1280.0 height:  720.0\n"
     ]
    }
   ],
   "source": [
    "print(\"Width: \",cap.get(3),\"height: \",cap.get(4))"
   ]
  },
  {
   "cell_type": "code",
   "execution_count": 4,
   "metadata": {},
   "outputs": [
    {
     "name": "stdout",
     "output_type": "stream",
     "text": [
      "True\n",
      "True\n"
     ]
    }
   ],
   "source": [
    "ret = cap.set(3,500)\n",
    "print(ret)\n",
    "ret = cap.set(4,500)\n",
    "print(ret)"
   ]
  },
  {
   "cell_type": "code",
   "execution_count": null,
   "metadata": {},
   "outputs": [],
   "source": []
  },
  {
   "cell_type": "code",
   "execution_count": 5,
   "metadata": {},
   "outputs": [],
   "source": [
    "while(cap.isOpened()):\n",
    "\n",
    "    ret, frame = cap.read()\n",
    "    \n",
    "    if ret == True:\n",
    "        \n",
    "        cv2.imshow(\"My Webcam\",frame[:,:,::-1])\n",
    "        k=cv2.waitKey(1)\n",
    "        \n",
    "        if (k==27):\n",
    "            cv2.destroyAllWindows()\n",
    "            cap.release()\n",
    "    \n",
    "    else:\n",
    "        \n",
    "        break\n",
    "\n",
    "exit()"
   ]
  },
  {
   "cell_type": "code",
   "execution_count": 4,
   "metadata": {},
   "outputs": [],
   "source": [
    "cap.release()"
   ]
  },
  {
   "cell_type": "markdown",
   "metadata": {},
   "source": []
  },
  {
   "cell_type": "code",
   "execution_count": 4,
   "metadata": {},
   "outputs": [],
   "source": [
    "def drawCircle(action, x, y, flags, userdata):\n",
    "  # Referencing global variables \n",
    "  global center, circumference\n",
    "  # Action to be taken when left mouse button is pressed\n",
    "  if action==cv2.EVENT_LBUTTONDOWN:\n",
    "    center=[(x,y)]\n",
    "    # Mark the center\n",
    "    cv2.circle(source, center[0], 1, (255,255,0), 2, cv2.LINE_AA );\n",
    "\n",
    "  # Action to be taken when left mouse button is released\n",
    "  elif action==cv2.EVENT_LBUTTONUP:\n",
    "    circumference=[(x,y)]\n",
    "    # Calculate radius of the circle\n",
    "    radius = math.sqrt(math.pow(center[0][0]-circumference[0][0],2)+math.pow(center[0][1]-circumference[0][1],2))\n",
    "    # Draw the circle\n",
    "    cv2.circle(source, center[0], int(radius), (0,255,0),2, cv2.LINE_AA)\n",
    "  "
   ]
  },
  {
   "cell_type": "code",
   "execution_count": 5,
   "metadata": {},
   "outputs": [],
   "source": [
    "center=[]\n",
    "circumference=[]\n",
    "source = cv2.imread(\"/Users/abhinandjayasankaran/GitHub/OpenCV_Work/Practice/Week_2/images/sample.jpg\")"
   ]
  },
  {
   "cell_type": "code",
   "execution_count": 6,
   "metadata": {},
   "outputs": [],
   "source": [
    "\n",
    "# Make a dummy image, will be useful to clear the drawing\n",
    "dummy = source.copy()\n",
    "cv2.namedWindow(\"Windowser\")\n",
    "# highgui function called when mouse events occur\n",
    "cv2.setMouseCallback(\"Windowser\", drawCircle)\n",
    "k = 0\n",
    "# loop until escape character is pressed\n",
    "while k!=27 :\n",
    "\n",
    "    cv2.imshow(\"Windowser\", source)\n",
    "    cv2.putText(source,'''Choose center, and drag, \n",
    "                      Press ESC to exit and c to clear''' ,\n",
    "              (10,30), cv2.FONT_HERSHEY_SIMPLEX, \n",
    "              0.7,(255,255,255), 2 );\n",
    "    k = cv2.waitKey(20) & 0xFF\n",
    "    # Another way of cloning\n",
    "    if k==99:\n",
    "        source= dummy.copy()\n",
    "\n",
    "\n",
    "cv2.destroyAllWindows()\n",
    "exit()"
   ]
  },
  {
   "cell_type": "code",
   "execution_count": 17,
   "metadata": {},
   "outputs": [
    {
     "name": "stdout",
     "output_type": "stream",
     "text": [
      "None\n"
     ]
    }
   ],
   "source": [
    "source.shape"
   ]
  },
  {
   "cell_type": "code",
   "execution_count": null,
   "metadata": {},
   "outputs": [],
   "source": []
  }
 ],
 "metadata": {
  "kernelspec": {
   "display_name": "Python 3",
   "language": "python",
   "name": "python3"
  },
  "language_info": {
   "codemirror_mode": {
    "name": "ipython",
    "version": 3
   },
   "file_extension": ".py",
   "mimetype": "text/x-python",
   "name": "python",
   "nbconvert_exporter": "python",
   "pygments_lexer": "ipython3",
   "version": "3.7.4"
  }
 },
 "nbformat": 4,
 "nbformat_minor": 4
}
